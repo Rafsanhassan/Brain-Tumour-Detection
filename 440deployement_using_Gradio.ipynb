{
 "cells": [
  {
   "cell_type": "code",
   "execution_count": 6,
   "id": "70cfbc5c-0294-45cb-a487-5eebc0773f03",
   "metadata": {},
   "outputs": [
    {
     "name": "stdout",
     "output_type": "stream",
     "text": [
      "Running on local URL:  http://127.0.0.1:7866\n",
      "\n",
      "To create a public link, set `share=True` in `launch()`.\n"
     ]
    },
    {
     "data": {
      "text/html": [
       "<div><iframe src=\"http://127.0.0.1:7866/\" width=\"100%\" height=\"500\" allow=\"autoplay; camera; microphone; clipboard-read; clipboard-write;\" frameborder=\"0\" allowfullscreen></iframe></div>"
      ],
      "text/plain": [
       "<IPython.core.display.HTML object>"
      ]
     },
     "metadata": {},
     "output_type": "display_data"
    },
    {
     "data": {
      "text/plain": []
     },
     "execution_count": 6,
     "metadata": {},
     "output_type": "execute_result"
    }
   ],
   "source": [
    "import gradio as gr\n",
    "import tensorflow as tf\n",
    "import numpy as np\n",
    "from PIL import Image\n",
    "\n",
    "# Predefined parameters\n",
    "img_height = 180\n",
    "img_width = 180\n",
    "class_names = [\"no\", \"yes\"]  # Update class names\n",
    "\n",
    "# Load the trained model\n",
    "model = tf.keras.models.load_model(r\"E:\\499a\\440project.h5\")\n",
    "# Replace with your model's path\n",
    "\n",
    "def predict_image(image):\n",
    "    # Preprocess the image\n",
    "    image = Image.open(image).convert(\"RGB\")\n",
    "    image = image.resize((img_height, img_width))\n",
    "    image_array = np.expand_dims(np.array(image) / 255.0, axis=0)  # Normalize and batchify\n",
    "    \n",
    "    # Get predictions\n",
    "    predictions = model.predict(image_array)\n",
    "    score = tf.nn.softmax(predictions[0])\n",
    "    \n",
    "    predicted_class = class_names[np.argmax(score)]\n",
    "    confidence = 100 * np.max(score)\n",
    "    \n",
    "    return f\"Prediction: {predicted_class} (Confidence: {confidence:.2f}%)\"\n",
    "\n",
    "# Custom CSS for background image\n",
    "custom_css = \"\"\"\n",
    ".gradio-container {\n",
    "    background-image: url('https://b2928487.smushcdn.com/2928487/wp-content/uploads/2022/04/Brain-inspiredAI-1536x1024.jpeg?lossy=1&strip=1&webp=1'); /* Replace with your image URL */\n",
    "    background-size: cover;\n",
    "    background-repeat: no-repeat;\n",
    "    background-position: center;\n",
    "    height: 100vh; /* Full viewport height */\n",
    "}\n",
    "\"\"\"\n",
    "\n",
    "# Gradio interface\n",
    "interface = gr.Interface(\n",
    "    fn=predict_image,\n",
    "    inputs=gr.Image(type=\"filepath\", label=\"Upload a Brain Scan Image\"),\n",
    "    outputs=gr.Textbox(label=\"Prediction\"),\n",
    "    title=\"Brain Tumor Detection\",\n",
    "    description=\"Upload a brain scan image to detect if it is tumorous ('yes') or not ('no').\",\n",
    "    css=custom_css\n",
    ")\n",
    "\n",
    "# Launch the interface\n",
    "interface.launch()\n"
   ]
  },
  {
   "cell_type": "code",
   "execution_count": null,
   "id": "b619b22e-9985-44b2-b01d-9e8ae9b8da99",
   "metadata": {},
   "outputs": [],
   "source": []
  },
  {
   "cell_type": "code",
   "execution_count": null,
   "id": "5de5fe83-94f0-43a9-85e8-bb230479a42d",
   "metadata": {},
   "outputs": [],
   "source": []
  }
 ],
 "metadata": {
  "kernelspec": {
   "display_name": "Python 3 (ipykernel)",
   "language": "python",
   "name": "python3"
  },
  "language_info": {
   "codemirror_mode": {
    "name": "ipython",
    "version": 3
   },
   "file_extension": ".py",
   "mimetype": "text/x-python",
   "name": "python",
   "nbconvert_exporter": "python",
   "pygments_lexer": "ipython3",
   "version": "3.8.20"
  }
 },
 "nbformat": 4,
 "nbformat_minor": 5
}
